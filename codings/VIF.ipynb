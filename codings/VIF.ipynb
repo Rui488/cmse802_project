{
 "cells": [
  {
   "cell_type": "code",
   "execution_count": null,
   "metadata": {},
   "outputs": [],
   "source": [
    "import numpy as np\n",
    "import pandas as pd\n",
    "from statsmodels.stats.outliers_influence import variance_inflation_factor\n",
    "from sklearn.preprocessing import LabelEncoder"
   ]
  },
  {
   "cell_type": "markdown",
   "metadata": {},
   "source": [
    "**Load the dataset**"
   ]
  },
  {
   "cell_type": "code",
   "execution_count": null,
   "metadata": {},
   "outputs": [],
   "source": [
    "df = pd.read_csv(r\"C:\\Users\\白猪白猪\\Documents\\Documents\\CMSE802\\Class_Material\\Homework\\Project\\Data\\imputed_pca_data.csv\")"
   ]
  },
  {
   "cell_type": "markdown",
   "metadata": {},
   "source": [
    "**Encode Categorical Variables**"
   ]
  },
  {
   "cell_type": "code",
   "execution_count": null,
   "metadata": {},
   "outputs": [],
   "source": [
    "label_encoders = {}\n",
    "# convert the first three columns (categorical) into numerical values\n",
    "for column in df.columns[:3]:\n",
    "    le = LabelEncoder()\n",
    "    df[column] = le.fit_transform(df[column])\n",
    "    label_encoders[column] = le"
   ]
  },
  {
   "cell_type": "markdown",
   "metadata": {},
   "source": [
    "**Split Data：Split the DataFrame into features (X) and target variables (y)**"
   ]
  },
  {
   "cell_type": "code",
   "execution_count": null,
   "metadata": {},
   "outputs": [],
   "source": [
    "X = df.iloc[:, :-3]  \n",
    "y = df.iloc[:, -3:]   "
   ]
  },
  {
   "cell_type": "markdown",
   "metadata": {},
   "source": [
    "**Add a constant column of ones**"
   ]
  },
  {
   "cell_type": "code",
   "execution_count": null,
   "metadata": {},
   "outputs": [],
   "source": [
    "X_with_const = pd.concat([pd.DataFrame({'const': np.ones(len(X))}), X], axis=1)"
   ]
  },
  {
   "cell_type": "markdown",
   "metadata": {},
   "source": [
    "**Calculate the VIF for Each Feature**"
   ]
  },
  {
   "cell_type": "code",
   "execution_count": null,
   "metadata": {},
   "outputs": [],
   "source": [
    "# storing the results in a DataFrame\n",
    "vif_data = pd.DataFrame()\n",
    "vif_data[\"Feature\"] = X.columns\n",
    "vif_data[\"VIF\"] = [variance_inflation_factor(X_with_const.values, i) for i in range(X.shape[1])]\n",
    "print(vif_data)"
   ]
  },
  {
   "cell_type": "markdown",
   "metadata": {},
   "source": [
    "**Filter Features by VIF**"
   ]
  },
  {
   "cell_type": "code",
   "execution_count": null,
   "metadata": {},
   "outputs": [],
   "source": [
    "# Set a threshold for VIF\n",
    "threshold = 5\n",
    "# select features with VIF values below this threshold\n",
    "features_to_keep = vif_data[vif_data[\"VIF\"] < threshold][\"Feature\"]\n",
    "reduced_X = X[features_to_keep]\n",
    "reduced_df = pd.concat([reduced_X, y], axis=1)"
   ]
  },
  {
   "cell_type": "markdown",
   "metadata": {},
   "source": [
    "**Save Reduced Dataset**"
   ]
  },
  {
   "cell_type": "code",
   "execution_count": null,
   "metadata": {},
   "outputs": [
    {
     "name": "stdout",
     "output_type": "stream",
     "text": [
      "                    Feature        VIF\n",
      "0             Plant Species  24.424379\n",
      "1                  Compound   1.059859\n",
      "2          Functional Group   1.702297\n",
      "3  Molecular Weight (g/mol)   1.782431\n",
      "4                       pKa   5.274059\n",
      "5                   log Kow   1.816094\n",
      "6      Exposure time  (hrs)   4.229329\n",
      "Reduced dataset with VIF < 5 has been saved to C:\\Users\\白猪白猪\\Documents\\Documents\\CMSE802\\Class_Material\\Homework\\Project\\reduced_vif_data.csv\n"
     ]
    }
   ],
   "source": [
    "output_file = r'C:\\Users\\白猪白猪\\Documents\\Documents\\CMSE802\\Class_Material\\Homework\\Project\\reduced_vif_data.csv'\n",
    "reduced_df.to_csv(output_file, index=False)\n",
    "print(f\"Reduced dataset with VIF < {threshold} has been saved to {output_file}\")"
   ]
  }
 ],
 "metadata": {
  "kernelspec": {
   "display_name": "base",
   "language": "python",
   "name": "python3"
  },
  "language_info": {
   "codemirror_mode": {
    "name": "ipython",
    "version": 3
   },
   "file_extension": ".py",
   "mimetype": "text/x-python",
   "name": "python",
   "nbconvert_exporter": "python",
   "pygments_lexer": "ipython3",
   "version": "3.11.0"
  }
 },
 "nbformat": 4,
 "nbformat_minor": 2
}
