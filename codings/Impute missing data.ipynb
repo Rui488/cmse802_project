{
 "cells": [
  {
   "cell_type": "code",
   "execution_count": null,
   "metadata": {},
   "outputs": [],
   "source": [
    "import numpy as np\n",
    "import pandas as pd\n",
    "from sklearn.impute import SimpleImputer"
   ]
  },
  {
   "cell_type": "markdown",
   "metadata": {},
   "source": [
    "**Load Data: Load the dataset from a CSV file into a DataFrame**"
   ]
  },
  {
   "cell_type": "code",
   "execution_count": null,
   "metadata": {},
   "outputs": [],
   "source": [
    "df = pd.read_csv(r\"C:\\Users\\白猪白猪\\Documents\\Documents\\CMSE802\\Class_Material\\Homework\\Project\\raw_pca_data.csv\")\n",
    "#print(df.head(2))\n",
    "# Replace Whitespace with NaN\n",
    "df.replace(' ', np.nan, inplace=True)\n",
    "# Isolate the numerical columns of the DataFrame for imputation\n",
    "numerical_data = df.iloc[:, 3:]"
   ]
  },
  {
   "cell_type": "markdown",
   "metadata": {},
   "source": [
    "**Replace missing values with the mean of each column**"
   ]
  },
  {
   "cell_type": "code",
   "execution_count": null,
   "metadata": {},
   "outputs": [],
   "source": [
    "# Initialize a SimpleImputer object\n",
    "imputer = SimpleImputer(missing_values=np.nan, strategy='mean')\n",
    "# Fit the imputer to the data and transform it\n",
    "numerical_data_imputed = imputer.fit_transform(numerical_data)\n",
    "# Convert to DataFrame\n",
    "numerical_data_imputed = pd.DataFrame(numerical_data_imputed, columns=numerical_data.columns)\n",
    "# Combine the non-numerical columns with the imputed numerical columns\n",
    "df_imputed = pd.concat([df.iloc[:, :3], numerical_data_imputed], axis=1)\n"
   ]
  },
  {
   "cell_type": "markdown",
   "metadata": {},
   "source": [
    "**Save the imputed DataFrame to a new CSV file**"
   ]
  },
  {
   "cell_type": "code",
   "execution_count": null,
   "metadata": {},
   "outputs": [],
   "source": [
    "output_file_imputed = r'C:\\Users\\白猪白猪\\Documents\\Documents\\CMSE802\\Class_Material\\Homework\\Project\\imputed_pca_data.csv'\n",
    "df_imputed.to_csv(output_file_imputed, index=False)"
   ]
  }
 ],
 "metadata": {
  "language_info": {
   "name": "python"
  }
 },
 "nbformat": 4,
 "nbformat_minor": 2
}
